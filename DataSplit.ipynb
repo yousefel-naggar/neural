{
 "cells": [
  {
   "cell_type": "code",
   "execution_count": 1,
   "metadata": {},
   "outputs": [],
   "source": [
    "import os\n",
    "import shutil\n",
    "import random\n"
   ]
  },
  {
   "cell_type": "code",
   "execution_count": 2,
   "metadata": {},
   "outputs": [],
   "source": [
    "# Define the path to your dataset\n",
    "source_dir = 'C:/Users/ysfah/OneDrive/Desktop/NN/PlantVillage'  # Replace with your dataset's root directory\n",
    "split_dir = 'C:/Users/ysfah/OneDrive/Desktop/NN/PlantVillageSplits'\n",
    "# Define new directories for train, validation, and test splits\n",
    "train_dir = os.path.join(split_dir, 'train')\n",
    "validation_dir = os.path.join(split_dir, 'validation')\n",
    "test_dir = os.path.join(split_dir, 'test')\n",
    "\n",
    "# Create directories for each split at the correct level (outside of each other)\n",
    "os.makedirs(train_dir, exist_ok=True)\n",
    "os.makedirs(validation_dir, exist_ok=True)\n",
    "os.makedirs(test_dir, exist_ok=True)\n",
    "\n",
    "# Function to split data into train, validation, and test sets\n",
    "def split_data(source, train_dir, validation_dir, test_dir, train_size=0.8, val_size=0.1, test_size=0.1):\n",
    "    for class_name in os.listdir(source):\n",
    "        class_dir = os.path.join(source, class_name)\n",
    "        if os.path.isdir(class_dir):\n",
    "            # Get all the image files in the class directory\n",
    "            all_images = os.listdir(class_dir)\n",
    "            random.shuffle(all_images)\n",
    "            \n",
    "            # Calculate split sizes\n",
    "            total_images = len(all_images)\n",
    "            train_end = int(total_images * train_size)\n",
    "            val_end = int(total_images * (train_size + val_size))\n",
    "            \n",
    "            # Split images into train, validation, and test\n",
    "            train_images = all_images[:train_end]\n",
    "            val_images = all_images[train_end:val_end]\n",
    "            test_images = all_images[val_end:]\n",
    "\n",
    "            # Ensure class directories exist in the destination folders\n",
    "            os.makedirs(os.path.join(train_dir, class_name), exist_ok=True)\n",
    "            os.makedirs(os.path.join(validation_dir, class_name), exist_ok=True)\n",
    "            os.makedirs(os.path.join(test_dir, class_name), exist_ok=True)\n",
    "            \n",
    "            # Move images to their respective directories\n",
    "            for img in train_images:\n",
    "                shutil.move(os.path.join(class_dir, img), os.path.join(train_dir, class_name, img))\n",
    "            for img in val_images:\n",
    "                shutil.move(os.path.join(class_dir, img), os.path.join(validation_dir, class_name, img))\n",
    "            for img in test_images:\n",
    "                shutil.move(os.path.join(class_dir, img), os.path.join(test_dir, class_name, img))\n",
    "\n",
    "# Call the function to split the data\n",
    "split_data(source_dir, train_dir, validation_dir, test_dir)\n"
   ]
  }
 ],
 "metadata": {
  "kernelspec": {
   "display_name": "base",
   "language": "python",
   "name": "python3"
  },
  "language_info": {
   "codemirror_mode": {
    "name": "ipython",
    "version": 3
   },
   "file_extension": ".py",
   "mimetype": "text/x-python",
   "name": "python",
   "nbconvert_exporter": "python",
   "pygments_lexer": "ipython3",
   "version": "3.12.7"
  }
 },
 "nbformat": 4,
 "nbformat_minor": 2
}
